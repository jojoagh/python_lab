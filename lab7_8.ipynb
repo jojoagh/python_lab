{
  "nbformat": 4,
  "nbformat_minor": 0,
  "metadata": {
    "colab": {
      "provenance": [],
      "mount_file_id": "1dTppY86PtFH_pCrdqC1O3LeS_cK2Su2a",
      "authorship_tag": "ABX9TyP/fIPU+KQ3Le/PhnYs2f4V",
      "include_colab_link": true
    },
    "kernelspec": {
      "name": "python3",
      "display_name": "Python 3"
    },
    "language_info": {
      "name": "python"
    }
  },
  "cells": [
    {
      "cell_type": "markdown",
      "metadata": {
        "id": "view-in-github",
        "colab_type": "text"
      },
      "source": [
        "<a href=\"https://colab.research.google.com/github/jojoagh/python_lab/blob/master/lab7_8.ipynb\" target=\"_parent\"><img src=\"https://colab.research.google.com/assets/colab-badge.svg\" alt=\"Open In Colab\"/></a>"
      ]
    },
    {
      "cell_type": "markdown",
      "source": [
        "Task 1"
      ],
      "metadata": {
        "id": "lOFfOs8PW15e"
      }
    },
    {
      "cell_type": "code",
      "execution_count": null,
      "metadata": {
        "colab": {
          "base_uri": "https://localhost:8080/"
        },
        "id": "qg8J9JYNMx5t",
        "outputId": "ddd9e076-e523-4e1a-d622-0ca8e88296ca"
      },
      "outputs": [
        {
          "output_type": "stream",
          "name": "stdout",
          "text": [
            "The rmse value for validation: 0.6717700872104836 \n",
            "The rmse value for train: 0.6476429289838909 \n"
          ]
        }
      ],
      "source": [
        "import pandas as pd\n",
        "import numpy as np\n",
        "from sklearn.model_selection import train_test_split\n",
        "from sklearn.linear_model import LinearRegression\n",
        "\n",
        "data = pd.read_csv('winequality-red.csv', sep = ';')\n",
        "\n",
        "X = data.drop('quality', axis = 1)\n",
        "y = data['quality']\n",
        "\n",
        "X_train, X_test, y_train, y_test = train_test_split(X, y, test_size=0.2, random_state= 12)\n",
        "X_train, X_Validation, y_train, y_Validation = train_test_split(X_train, y_train, test_size=0.25,random_state = 12)\n",
        "\n",
        "reg = LinearRegression()\n",
        "reg.fit(X_train,y_train)\n",
        "\n",
        "y_pred_V= reg.predict(X_Validation)\n",
        "y_pred_T = reg.predict(X_train)\n",
        "\n",
        "rmse1 = np.sqrt(np.mean((y_pred_V - y_Validation)**2))\n",
        "rmse2 = np.sqrt(np.mean((y_pred_T - y_train)**2))\n",
        "print(f'The rmse value for validation: {rmse1} ' )\n",
        "print(f'The rmse value for train: {rmse2} ' )"
      ]
    },
    {
      "cell_type": "markdown",
      "source": [
        "Task 3"
      ],
      "metadata": {
        "id": "5ytlCCNRW_hS"
      }
    },
    {
      "cell_type": "code",
      "source": [
        "from sklearn.neural_network import MLPRegressor\n",
        "\n",
        "reg = MLPRegressor(hidden_layer_sizes=(10, 8, 4), random_state=1,max_iter=1000, solver='lbfgs')\n",
        "reg.fit(X_train, y_train)\n",
        "\n",
        "y_pred_V= reg.predict(X_Validation)\n",
        "y_pred_T = reg.predict(X_train)\n",
        "\n",
        "rmse1 = np.sqrt(np.mean((y_pred_V - y_Validation)**2))\n",
        "rmse2 = np.sqrt(np.mean((y_pred_T - y_train)**2))\n",
        "print(f'The rmse value for validation: {rmse1} ' )\n",
        "print(f'The rmse value for train: {rmse2} ' )\n",
        "\n",
        "\n"
      ],
      "metadata": {
        "colab": {
          "base_uri": "https://localhost:8080/"
        },
        "id": "a04n2bdeOJPO",
        "outputId": "5f92731a-b6a4-4b33-c523-e3ad634ab8fc"
      },
      "execution_count": null,
      "outputs": [
        {
          "output_type": "stream",
          "name": "stdout",
          "text": [
            "The rmse value for validation: 0.6687204043441308 \n",
            "The rmse value for train: 0.6506272310801363 \n"
          ]
        }
      ]
    },
    {
      "cell_type": "markdown",
      "source": [
        "task 4"
      ],
      "metadata": {
        "id": "Fhvd1sLHZC6m"
      }
    },
    {
      "cell_type": "code",
      "source": [
        "from sklearn.preprocessing import PolynomialFeatures\n",
        "from sklearn.linear_model import LinearRegression\n",
        "\n",
        "poly = PolynomialFeatures(degree = 2, include_bias=False)\n",
        "X_poly=poly_reg.fit_transform(X_train)"
      ],
      "metadata": {
        "id": "qmbQrhmsZCdi"
      },
      "execution_count": null,
      "outputs": []
    },
    {
      "cell_type": "markdown",
      "source": [
        "task 5\n"
      ],
      "metadata": {
        "id": "qwCPosvObgIc"
      }
    },
    {
      "cell_type": "code",
      "source": [
        "from sklearn.linear_model import LogisticRegression\n",
        "from sklearn.metrics import accuracy_score\n",
        "\n",
        "data = pd.read_csv('winequality-red.csv', sep = ';')\n",
        "\n",
        "X = data.drop('quality', axis = 1)\n",
        "y = data['quality']\n",
        "\n",
        "X_train, X_test, y_train, y_test = train_test_split(X, y, test_size=0.2, random_state= 12)\n",
        "X_train, X_Validation, y_train, y_Validation = train_test_split(X_train, y_train, test_size=0.25,random_state = 12)\n",
        "\n",
        "y_train = y_train > 5.5\n",
        "y_Validation = y_Validation > 5.5\n",
        "y_test = y_test > 5.5\n",
        "\n",
        "clf = LogisticRegression()\n",
        "clf.fit(X_train, y_train)\n",
        "\n",
        "y_pred_V= clf.predict(X_Validation)\n",
        "y_pred_T = clf.predict(X_train)\n",
        "\n",
        "acc_train = accuracy_score(y_train, y_pred_T)\n",
        "acc_val = accuracy_score(y_Validation, y_pred_V)\n",
        "\n",
        "print(f'The accuracy value for validation: {acc_train} ' )\n",
        "print(f'The accuracy value for train: {acc_val} ' )\n",
        "\n",
        "\n"
      ],
      "metadata": {
        "colab": {
          "base_uri": "https://localhost:8080/"
        },
        "id": "Km4KX4CPbigY",
        "outputId": "e24302a4-3876-43bf-f3bd-d47ee95f7a37"
      },
      "execution_count": null,
      "outputs": [
        {
          "output_type": "stream",
          "name": "stdout",
          "text": [
            "The accuracy value for validation: 0.7539103232533889 \n",
            "The accuracy value for train: 0.75625 \n"
          ]
        },
        {
          "output_type": "stream",
          "name": "stderr",
          "text": [
            "/usr/local/lib/python3.10/dist-packages/sklearn/linear_model/_logistic.py:458: ConvergenceWarning: lbfgs failed to converge (status=1):\n",
            "STOP: TOTAL NO. of ITERATIONS REACHED LIMIT.\n",
            "\n",
            "Increase the number of iterations (max_iter) or scale the data as shown in:\n",
            "    https://scikit-learn.org/stable/modules/preprocessing.html\n",
            "Please also refer to the documentation for alternative solver options:\n",
            "    https://scikit-learn.org/stable/modules/linear_model.html#logistic-regression\n",
            "  n_iter_i = _check_optimize_result(\n"
          ]
        }
      ]
    },
    {
      "cell_type": "markdown",
      "source": [
        "task 6"
      ],
      "metadata": {
        "id": "f1DIhj6afNcr"
      }
    },
    {
      "cell_type": "code",
      "source": [
        "y = data['quality']\n",
        "\n",
        "X = data[['alcohol', 'volatile acidity', 'total sulfur dioxide', 'sulphates']]\n",
        "\n",
        "\n",
        "\n",
        "X_train, X_test, y_train, y_test = train_test_split(X, y, test_size=0.2, random_state= 12)\n",
        "X_train, X_Validation, y_train, y_Validation = train_test_split(X_train, y_train, test_size=0.25,random_state = 12)\n",
        "\n",
        "y_train = y_train > 5.5\n",
        "y_Validation = y_Validation > 5.5\n",
        "y_test = y_test > 5.5\n",
        "\n",
        "clf = LogisticRegression()\n",
        "clf.fit(X_train, y_train)\n",
        "\n",
        "y_pred_V= clf.predict(X_Validation)\n",
        "y_pred_T = clf.predict(X_train)\n",
        "\n",
        "acc_train = accuracy_score(y_train, y_pred_T)\n",
        "acc_val = accuracy_score(y_Validation, y_pred_V)\n",
        "\n",
        "print(f'The accuracy value for validation: {acc_train} ' )\n",
        "print(f'The accuracy value for train: {acc_val} ' )"
      ],
      "metadata": {
        "colab": {
          "base_uri": "https://localhost:8080/"
        },
        "id": "UCYwgsXrfPGe",
        "outputId": "18b62f71-7f0c-46a8-813e-3791010eddeb"
      },
      "execution_count": null,
      "outputs": [
        {
          "output_type": "stream",
          "name": "stdout",
          "text": [
            "The accuracy value for validation: 0.7549530761209593 \n",
            "The accuracy value for train: 0.73125 \n"
          ]
        }
      ]
    },
    {
      "cell_type": "code",
      "source": [
        "y = data['quality']\n",
        "\n",
        "X = data[['pH', 'free sulfur dioxide', 'residual sugar', 'fixed acidity']]\n",
        "\n",
        "X_train, X_test, y_train, y_test = train_test_split(X, y, test_size=0.2, random_state= 12)\n",
        "X_train, X_Validation, y_train, y_Validation = train_test_split(X_train, y_train, test_size=0.25,random_state = 12)\n",
        "\n",
        "y_train = y_train > 5.5\n",
        "y_Validation = y_Validation > 5.5\n",
        "y_test = y_test > 5.5\n",
        "\n",
        "clf = LogisticRegression()\n",
        "clf.fit(X_train, y_train)\n",
        "\n",
        "y_pred_V= clf.predict(X_Validation)\n",
        "y_pred_T = clf.predict(X_train)\n",
        "\n",
        "acc_train = accuracy_score(y_train, y_pred_T)\n",
        "acc_val = accuracy_score(y_Validation, y_pred_V)\n",
        "\n",
        "print(f'The accuracy value for validation: {acc_train} ' )\n",
        "print(f'The accuracy value for train: {acc_val} ' )"
      ],
      "metadata": {
        "colab": {
          "base_uri": "https://localhost:8080/"
        },
        "id": "0HskVoa-jFXp",
        "outputId": "dd445acf-5551-40e6-e015-4581a068f68c"
      },
      "execution_count": null,
      "outputs": [
        {
          "output_type": "stream",
          "name": "stdout",
          "text": [
            "The accuracy value for validation: 0.5589155370177268 \n",
            "The accuracy value for train: 0.56875 \n"
          ]
        }
      ]
    },
    {
      "cell_type": "markdown",
      "source": [
        "Task 7"
      ],
      "metadata": {
        "id": "rmfIik0GjRMP"
      }
    },
    {
      "cell_type": "code",
      "source": [
        "from sklearn import svm\n",
        "from sklearn.neural_network import MLPClassifier\n",
        "from sklearn.neighbors import KNeighborsClassifier\n",
        "from sklearn import tree\n",
        "\n",
        "X = data.drop('quality', axis = 1)\n",
        "y = data['quality']\n",
        "\n",
        "X_train, X_test, y_train, y_test = train_test_split(X, y, test_size=0.2, random_state= 12)\n",
        "X_train, X_Validation, y_train, y_Validation = train_test_split(X_train, y_train, test_size=0.25,random_state = 12)\n",
        "\n",
        "y_train = y_train > 5.5\n",
        "y_Validation = y_Validation > 5.5\n",
        "y_test = y_test > 5.5\n",
        "\n",
        "clf = svm.SVC(kernel='rbf')\n",
        "clf.fit(X_train, y_train)\n",
        "\n",
        "y_pred_V= clf.predict(X_Validation)\n",
        "y_pred_T = clf.predict(X_train)\n",
        "\n",
        "acc_train = accuracy_score(y_train, y_pred_T)\n",
        "acc_val = accuracy_score(y_Validation, y_pred_V)\n",
        "\n",
        "print(f'The accuracy value for validation: {acc_train} ' )\n",
        "print(f'The accuracy value for train: {acc_val} ' )"
      ],
      "metadata": {
        "colab": {
          "base_uri": "https://localhost:8080/"
        },
        "id": "ctHdW1sYjSe9",
        "outputId": "a4b83ff8-7b08-474d-f26e-5a1ea14a1063"
      },
      "execution_count": null,
      "outputs": [
        {
          "output_type": "stream",
          "name": "stdout",
          "text": [
            "The accuracy value for validation: 0.6256517205422315 \n",
            "The accuracy value for train: 0.64375 \n"
          ]
        }
      ]
    },
    {
      "cell_type": "markdown",
      "source": [
        "Task 8"
      ],
      "metadata": {
        "id": "ATzl5l42kMbf"
      }
    },
    {
      "cell_type": "code",
      "source": [
        "from sklearn import svm\n",
        "from sklearn.neural_network import MLPClassifier\n",
        "from sklearn.neighbors import KNeighborsClassifier\n",
        "from sklearn import tree\n",
        "\n",
        "X = data.drop('quality', axis = 1)\n",
        "y = data['quality']\n",
        "\n",
        "X_train, X_test, y_train, y_test = train_test_split(X, y, test_size=0.2, random_state= 12)\n",
        "X_train, X_Validation, y_train, y_Validation = train_test_split(X_train, y_train, test_size=0.25,random_state = 12)\n",
        "\n",
        "y_train = y_train > 5.5\n",
        "y_Validation = y_Validation > 5.5\n",
        "y_test = y_test > 5.5\n",
        "\n",
        "clf = MLPClassifier(hidden_layer_sizes=( 20,15,5), random_state=1,max_iter=20000)\n",
        "clf.fit(X_train, y_train)\n",
        "\n",
        "y_pred_V= clf.predict(X_Validation)\n",
        "y_pred_T = clf.predict(X_train)\n",
        "\n",
        "acc_train = accuracy_score(y_train, y_pred_T)\n",
        "acc_val = accuracy_score(y_Validation, y_pred_V)\n",
        "\n",
        "print(f'The accuracy value for validation: {acc_train} ' )\n",
        "print(f'The accuracy value for train: {acc_val} ' )"
      ],
      "metadata": {
        "colab": {
          "base_uri": "https://localhost:8080/"
        },
        "id": "teprJjvakOFy",
        "outputId": "a264efdd-9387-49b4-8596-b6b527c41fb0"
      },
      "execution_count": null,
      "outputs": [
        {
          "output_type": "stream",
          "name": "stdout",
          "text": [
            "The accuracy value for validation: 0.7518248175182481 \n",
            "The accuracy value for train: 0.74375 \n"
          ]
        }
      ]
    },
    {
      "cell_type": "code",
      "source": [],
      "metadata": {
        "id": "TiLAqmWLlgog"
      },
      "execution_count": null,
      "outputs": []
    },
    {
      "cell_type": "markdown",
      "source": [
        "# New section"
      ],
      "metadata": {
        "id": "WW689pBzNWbl"
      }
    }
  ]
}