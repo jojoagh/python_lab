{
  "cells": [
    {
      "cell_type": "markdown",
      "metadata": {
        "id": "view-in-github",
        "colab_type": "text"
      },
      "source": [
        "<a href=\"https://colab.research.google.com/github/jojoagh/python_lab/blob/master/lab1.ipynb\" target=\"_parent\"><img src=\"https://colab.research.google.com/assets/colab-badge.svg\" alt=\"Open In Colab\"/></a>"
      ]
    },
    {
      "cell_type": "markdown",
      "metadata": {
        "id": "t4k6lj7-LB-n"
      },
      "source": [
        "Task 1"
      ]
    },
    {
      "cell_type": "code",
      "execution_count": null,
      "metadata": {
        "colab": {
          "base_uri": "https://localhost:8080/"
        },
        "id": "TQeKmjtf82Dc",
        "outputId": "2d3e0f89-d929-45df-c4bc-dd3fe0c1c110"
      },
      "outputs": [
        {
          "name": "stdout",
          "output_type": "stream",
          "text": [
            "the multiplication of 50 and 62 is: 3100\n",
            "the multiplication of 50 and 62 is 3100 \n"
          ]
        },
        {
          "data": {
            "text/plain": [
              "3100"
            ]
          },
          "execution_count": 13,
          "metadata": {},
          "output_type": "execute_result"
        }
      ],
      "source": [
        "a = 50\n",
        "b = 62\n",
        "c = a * b\n",
        "print(\"the multiplication of \" + str(a) + \" and \" + str(b) + \" is: \" + str(c) )\n",
        "print(f'the multiplication of {a} and {b} is: {c} ' )\n",
        "c"
      ]
    },
    {
      "cell_type": "code",
      "execution_count": null,
      "metadata": {
        "colab": {
          "base_uri": "https://localhost:8080/"
        },
        "id": "CWHXucmOAylm",
        "outputId": "e9a44856-4004-4f0d-b2a6-0e8a2aebaf35"
      },
      "outputs": [
        {
          "name": "stdout",
          "output_type": "stream",
          "text": [
            "the division of 2.5 into 50 is: 20.0\n",
            "the division of 2.5 into 50 is: 20.0\n",
            "20.0\n"
          ]
        }
      ],
      "source": [
        "a = 50\n",
        "b = 2.5\n",
        "c = a / b\n",
        "print(\"the division of \" + str(b) + \" into \" + str(a) + \" is: \" + str(c))\n",
        "print(f'the division of {b} into {a} is: {c}')\n",
        "print(c)"
      ]
    },
    {
      "cell_type": "markdown",
      "metadata": {
        "id": "3aaJ9tpbCiaL"
      },
      "source": [
        "Task 2"
      ]
    },
    {
      "cell_type": "code",
      "execution_count": null,
      "metadata": {
        "colab": {
          "base_uri": "https://localhost:8080/"
        },
        "id": "UO82y_S0CljU",
        "outputId": "81e6d238-d3d2-4cbf-ca2d-4aefa4dfb1c3"
      },
      "outputs": [
        {
          "name": "stdout",
          "output_type": "stream",
          "text": [
            "the following number of iterations were executed: 1\n",
            "lucky\n"
          ]
        }
      ],
      "source": [
        "import random\n",
        "\n",
        "i = 0\n",
        "naive_expected_number = 1 / (1 - 0.8)\n",
        "while random.random() < 0.8:\n",
        "   i += 1\n",
        "print(f'the following number of iterations were executed: {i}')\n",
        "if i <= naive_expected_number:\n",
        "   print(\"lucky\")\n",
        "else:\n",
        "   print(\"unlucky\")"
      ]
    },
    {
      "cell_type": "markdown",
      "metadata": {
        "id": "p_53uTYZHUlS"
      },
      "source": [
        "Task 3"
      ]
    },
    {
      "cell_type": "code",
      "execution_count": null,
      "metadata": {
        "colab": {
          "base_uri": "https://localhost:8080/"
        },
        "id": "_s88rppSHShs",
        "outputId": "912c0036-1174-4c53-a9fe-c2ff2a195713"
      },
      "outputs": [
        {
          "name": "stdout",
          "output_type": "stream",
          "text": [
            "the following number of iterations were executed: 5\n",
            "lucky\n",
            "***********************************************************\n",
            "the following number of iterations were executed: 0\n",
            "lucky\n",
            "***********************************************************\n",
            "the following number of iterations were executed: 0\n",
            "lucky\n"
          ]
        }
      ],
      "source": [
        "import random\n",
        "\n",
        "def iteration_loop(a):\n",
        "    i = 0\n",
        "    naive_expected_number = 1 / ( 1 - a )\n",
        "    while random.random() < a:\n",
        "       i += 1\n",
        "    print(f'the following number of iterations were executed: {i}')\n",
        "    if i <= naive_expected_number:\n",
        "       print(\"lucky\")\n",
        "    else:\n",
        "       print(\"unlucky\")\n",
        "\n",
        "iteration_loop(0.8)\n",
        "print(\"***********************************************************\")\n",
        "iteration_loop(0.5)\n",
        "print(\"***********************************************************\")\n",
        "iteration_loop(0.3)\n"
      ]
    },
    {
      "cell_type": "markdown",
      "metadata": {
        "id": "UeseKcUGLGjR"
      },
      "source": [
        "Task 4"
      ]
    },
    {
      "cell_type": "code",
      "execution_count": null,
      "metadata": {
        "colab": {
          "base_uri": "https://localhost:8080/"
        },
        "id": "MIRI3wQnLI8F",
        "outputId": "dbccb0fb-1fbb-4361-9527-70ce0fc77b9f"
      },
      "outputs": [
        {
          "name": "stdout",
          "output_type": "stream",
          "text": [
            "We have the quadratic expression 3x^2 + (-4)x + (-2)\n",
            "two real roots\n",
            "The roots are 1.7207592200561266 and -0.38742588672279316\n"
          ]
        }
      ],
      "source": [
        "import math\n",
        "\n",
        "a = 3\n",
        "b = -4\n",
        "c = -2\n",
        "\n",
        "print(f'We have the quadratic expression {a}x^2 + ({b})x + ({c})')\n",
        "delta = (b * b) - (4 * a * c)\n",
        "root1 = (-b + math.sqrt(delta)) / ( 2 * a )\n",
        "root2 = (-b - math.sqrt(delta)) / ( 2 * a )\n",
        "\n",
        "if delta == 0:\n",
        "  print(f'One real root')\n",
        "  print(f'the root is: {root1}')\n",
        "if delta > 0:\n",
        "  print(f'two real roots')\n",
        "  print(f'The roots are {root1} and {root2}')\n",
        "if delta < 0:\n",
        "  print(f'no real roots')"
      ]
    },
    {
      "cell_type": "markdown",
      "metadata": {
        "id": "MpjZgLiRVFa1"
      },
      "source": [
        "Task 5"
      ]
    },
    {
      "cell_type": "code",
      "execution_count": null,
      "metadata": {
        "colab": {
          "base_uri": "https://localhost:8080/"
        },
        "id": "pwYnRKOJTfDe",
        "outputId": "59a3b370-87b6-40a9-df48-aff78b444f6f"
      },
      "outputs": [
        {
          "name": "stdout",
          "output_type": "stream",
          "text": [
            "We have the quadratic expression 3x^2 + (-9)x + (1)\n",
            "two real roots\n",
            "The roots are 2.8844373104863457 and 0.11556268951365418\n"
          ]
        }
      ],
      "source": [
        "from math import sqrt\n",
        "\n",
        "def quadratic_calc(a,b,c):\n",
        "  print(f'We have the quadratic expression {a}x^2 + ({b})x + ({c})')\n",
        "  delta = (b * b) - (4 * a * c)\n",
        "  root1 = (-b + sqrt(delta)) / ( 2 * a )\n",
        "  root2 = (-b - sqrt(delta)) / ( 2 * a )\n",
        "\n",
        "  if delta == 0:\n",
        "     print(f'One real root')\n",
        "     print(f'the root is: {root1}')\n",
        "  if delta > 0:\n",
        "     print(f'two real roots')\n",
        "     print(f'The roots are {root1} and {root2}')\n",
        "  if delta < 0:\n",
        "     print(f'no real roots')\n",
        "\n",
        "quadratic_calc(3,-4,-2)\n"
      ]
    },
    {
      "cell_type": "markdown",
      "metadata": {
        "id": "g6slvJ2DX-2L"
      },
      "source": [
        "Task 6"
      ]
    },
    {
      "cell_type": "code",
      "execution_count": null,
      "metadata": {
        "colab": {
          "base_uri": "https://localhost:8080/"
        },
        "id": "cZ7H8eZ7YAP_",
        "outputId": "b06fcecd-ecb9-4133-843f-8feb43f6897f"
      },
      "outputs": [
        {
          "output_type": "stream",
          "name": "stdout",
          "text": [
            "The values_less_than list has the following numbers:\n",
            "[0.24805716556499657, 0.4099387638952763, 0.190184641855222, 0.22830189471470708, 0.15487441150471837, 0.30887822614876437, 0.3808237534508784, 0.4829342054117448, 0.15346762217271825, 0.3074654574663708, 0.18514763640569198, 0.011961662721438393, 0.438732313665253, 0.31896942818731044, 0.3334612258252341, 0.4075932530208696, 0.27185375141874046, 0.01194165167549699, 0.11327486641683171, 0.3754796778302749, 0.3900604158666884, 0.04378598059796257, 0.44107729491202585, 0.4516633086005336, 0.06927055682427286, 0.2537266767518054, 0.4805345090675285]\n",
            "it also contains the following number of elements: 27\n",
            "*****************************************************************************************\n",
            "The other_values list has the following numbers:\n",
            "[0.8290042562550662, 0.9450658834959209, 0.6401504388618166, 0.8283533401991852, 0.5848352563131844, 0.5225416493465667, 0.6294809352365142, 0.8293166831328465, 0.8748586534485722, 0.7346479128988747, 0.9630922202958742, 0.8412096802693342, 0.6345343532072444]\n",
            "it also contains the following number of elements: 13\n"
          ]
        }
      ],
      "source": [
        "import numpy as np\n",
        "\n",
        "values1 = np.random.rand(20)\n",
        "values2 = np.random.rand(20)\n",
        "# combined the values1 and values2 data into one array\n",
        "combined_arr = np.concatenate((values1 , values2))\n",
        "#initialize empty lists\n",
        "values_less_than = []\n",
        "other_values = []\n",
        "\n",
        "for i in range(len(combined_arr)):\n",
        "  if combined_arr[i] < 0.5:\n",
        "    values_less_than.append(combined_arr[i])\n",
        "  else:\n",
        "    other_values.append(combined_arr[i])\n",
        "\n",
        "print(\"The values_less_than list has the following numbers:\")\n",
        "print(values_less_than)\n",
        "print(f'it also contains the following number of elements: {len(values_less_than)}')\n",
        "print(\"*****************************************************************************************\")\n",
        "print(\"The other_values list has the following numbers:\")\n",
        "print(other_values)\n",
        "print(f'it also contains the following number of elements: {len(other_values)}')\n"
      ]
    },
    {
      "cell_type": "markdown",
      "metadata": {
        "id": "NxOWGG57mtBA"
      },
      "source": [
        "Task 7"
      ]
    },
    {
      "cell_type": "code",
      "execution_count": 2,
      "metadata": {
        "id": "RxugGAOamulT",
        "colab": {
          "base_uri": "https://localhost:8080/"
        },
        "outputId": "b958367e-5e64-4509-d8a2-ca6021eaac87"
      },
      "outputs": [
        {
          "output_type": "stream",
          "name": "stdout",
          "text": [
            "The values_less_than list has the following numbers:\n",
            "[0.3937076723038627, 0.040321722299617946, 0.4670851056432893, 0.4831590660289816, 0.2888065422460375, 0.15944243158252747, 0.2117967525428257, 0.27333598538134385, 0.3796334202179594, 0.37021170808186155, 0.4097780901213255, 0.24322113561341197, 0.03845058512523658, 0.29366445323024315, 0.011806120766021277]\n",
            "it also contains the following number of elements: 15\n",
            "*****************************************************************************************\n",
            "The other_values list has the following numbers:\n",
            "[0.7597635382520858, 0.917956385403609, 0.6735579037589005, 0.5927762240320523, 0.5669783410322179, 0.7389425114586128, 0.8548775548014327, 0.7334681409288564, 0.9517236344810759, 0.8734830638840357, 0.9329235236387133, 0.6183769266240577, 0.6169096507159216, 0.5421519670884416, 0.9941596717693224, 0.9034883523520961, 0.6321945202056615, 0.505711804812522, 0.6424883308747349, 0.6899982290542362, 0.5619460150041009, 0.5875727820462978, 0.5982966246362245, 0.8855224747622769, 0.6949976687356285]\n",
            "it also contains the following number of elements: 25\n",
            "*****************************************************************************************\n",
            "Index: 1 - Number: 0.3937076723038627 - origin: value1\n",
            "Index: 2 - Number: 0.040321722299617946 - origin: value1\n",
            "Index: 7 - Number: 0.4670851056432893 - origin: value1\n",
            "Index: 9 - Number: 0.4831590660289816 - origin: value1\n",
            "Index: 11 - Number: 0.2888065422460375 - origin: value1\n",
            "Index: 12 - Number: 0.15944243158252747 - origin: value1\n",
            "Index: 13 - Number: 0.2117967525428257 - origin: value1\n",
            "Index: 17 - Number: 0.27333598538134385 - origin: value1\n",
            "Index: 0 - Number: 0.7597635382520858 - origin: value1\n",
            "Index: 3 - Number: 0.917956385403609 - origin: value1\n",
            "Index: 4 - Number: 0.6735579037589005 - origin: value1\n",
            "Index: 5 - Number: 0.5927762240320523 - origin: value1\n",
            "Index: 6 - Number: 0.5669783410322179 - origin: value1\n",
            "Index: 8 - Number: 0.7389425114586128 - origin: value1\n",
            "Index: 10 - Number: 0.8548775548014327 - origin: value1\n",
            "Index: 14 - Number: 0.7334681409288564 - origin: value1\n",
            "Index: 15 - Number: 0.9517236344810759 - origin: value1\n",
            "Index: 16 - Number: 0.8734830638840357 - origin: value1\n",
            "Index: 18 - Number: 0.9329235236387133 - origin: value1\n",
            "Index: 19 - Number: 0.6183769266240577 - origin: value1\n",
            "Index: 0 - Number: 0.3796334202179594 - origin: value2\n",
            "Index: 2 - Number: 0.37021170808186155 - origin: value2\n",
            "Index: 8 - Number: 0.4097780901213255 - origin: value2\n",
            "Index: 13 - Number: 0.24322113561341197 - origin: value2\n",
            "Index: 16 - Number: 0.03845058512523658 - origin: value2\n",
            "Index: 18 - Number: 0.29366445323024315 - origin: value2\n",
            "Index: 19 - Number: 0.011806120766021277 - origin: value2\n",
            "Index: 1 - Number: 0.6169096507159216 - origin: value2\n",
            "Index: 3 - Number: 0.5421519670884416 - origin: value2\n",
            "Index: 4 - Number: 0.9941596717693224 - origin: value2\n",
            "Index: 5 - Number: 0.9034883523520961 - origin: value2\n",
            "Index: 6 - Number: 0.6321945202056615 - origin: value2\n",
            "Index: 7 - Number: 0.505711804812522 - origin: value2\n",
            "Index: 9 - Number: 0.6424883308747349 - origin: value2\n",
            "Index: 10 - Number: 0.6899982290542362 - origin: value2\n",
            "Index: 11 - Number: 0.5619460150041009 - origin: value2\n",
            "Index: 12 - Number: 0.5875727820462978 - origin: value2\n",
            "Index: 14 - Number: 0.5982966246362245 - origin: value2\n",
            "Index: 15 - Number: 0.8855224747622769 - origin: value2\n",
            "Index: 17 - Number: 0.6949976687356285 - origin: value2\n"
          ]
        }
      ],
      "source": [
        "import numpy as np\n",
        "\n",
        "values1 = np.random.rand(20)\n",
        "values2 = np.random.rand(20)\n",
        "# combined the values1 and values2 data into one array\n",
        "combined_arr = np.concatenate((values1 , values2))\n",
        "#initialize empty lists\n",
        "values_less_than = []\n",
        "other_values = []\n",
        "matching = []\n",
        "\n",
        "for i in range(len(combined_arr)):\n",
        "  if combined_arr[i] < 0.5:\n",
        "    values_less_than.append(combined_arr[i])\n",
        "  else:\n",
        "    other_values.append(combined_arr[i])\n",
        "\n",
        "print(\"The values_less_than list has the following numbers:\")\n",
        "print(values_less_than)\n",
        "print(f'it also contains the following number of elements: {len(values_less_than)}')\n",
        "print(\"*****************************************************************************************\")\n",
        "print(\"The other_values list has the following numbers:\")\n",
        "print(other_values)\n",
        "print(f'it also contains the following number of elements: {len(other_values)}')\n",
        "print(\"*****************************************************************************************\")\n",
        "\n",
        "for i in range(len(values_less_than)):\n",
        "  matching_i = np.where(values_less_than[i] == values1)[0]\n",
        "  for index in matching_i:\n",
        "    number = values1[index]\n",
        "    print(f'Index: {index} - Number: {number} - origin: value1')\n",
        "\n",
        "for i in range(len(other_values)):\n",
        "  matching_i = np.where(other_values[i] == values1)[0]\n",
        "  for index in matching_i:\n",
        "    number = values1[index]\n",
        "    print(f'Index: {index} - Number: {number} - origin: value1')\n",
        "\n",
        "for i in range(len(values_less_than)):\n",
        "  matching_i = np.where(values_less_than[i] == values2)[0]\n",
        "  for index in matching_i:\n",
        "    number = values2[index]\n",
        "    print(f'Index: {index} - Number: {number} - origin: value2')\n",
        "\n",
        "for i in range(len(other_values)):\n",
        "  matching_i = np.where(other_values[i] == values2)[0]\n",
        "  for index in matching_i:\n",
        "    number = values2[index]\n",
        "    print(f'Index: {index} - Number: {number} - origin: value2')\n",
        "\n"
      ]
    },
    {
      "cell_type": "markdown",
      "source": [
        "Additional task 10"
      ],
      "metadata": {
        "id": "l0cGWd2Km9xn"
      }
    },
    {
      "cell_type": "code",
      "source": [
        "newlist = []\n",
        "\n",
        "for i in range(10):\n",
        "  value = i\n",
        "  value = value * value\n",
        "  value = value - 4\n",
        "  newlist.append(value)\n",
        "\n",
        "print(newlist)"
      ],
      "metadata": {
        "colab": {
          "base_uri": "https://localhost:8080/"
        },
        "id": "4wky6IfpnCce",
        "outputId": "91c05e55-c29d-44a9-d51f-868c7a54b94d"
      },
      "execution_count": 2,
      "outputs": [
        {
          "output_type": "stream",
          "name": "stdout",
          "text": [
            "[-4, -3, 0, 5, 12, 21, 32, 45, 60, 77]\n"
          ]
        }
      ]
    },
    {
      "cell_type": "code",
      "source": [
        "newlist = [(i*i-4)for i in range(10)]\n",
        "\n",
        "print(newlist)\n",
        "\n",
        "\n"
      ],
      "metadata": {
        "colab": {
          "base_uri": "https://localhost:8080/"
        },
        "id": "S_DhhvnlGINa",
        "outputId": "2734d5b8-4045-4fc2-8822-cbe134aa35ae"
      },
      "execution_count": 9,
      "outputs": [
        {
          "output_type": "stream",
          "name": "stdout",
          "text": [
            "[-4, -3, 0, 5, 12, 21, 32, 45, 60, 77]\n"
          ]
        }
      ]
    }
  ],
  "metadata": {
    "colab": {
      "provenance": [],
      "authorship_tag": "ABX9TyMHKkCeIm3ZO1eseaVsItAn",
      "include_colab_link": true
    },
    "kernelspec": {
      "display_name": "Python 3",
      "name": "python3"
    },
    "language_info": {
      "name": "python"
    }
  },
  "nbformat": 4,
  "nbformat_minor": 0
}