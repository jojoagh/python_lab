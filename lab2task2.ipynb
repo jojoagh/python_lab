{
  "nbformat": 4,
  "nbformat_minor": 0,
  "metadata": {
    "colab": {
      "provenance": [],
      "authorship_tag": "ABX9TyNuCAgVucK67sZv0kgJQOfX",
      "include_colab_link": true
    },
    "kernelspec": {
      "name": "python3",
      "display_name": "Python 3"
    },
    "language_info": {
      "name": "python"
    }
  },
  "cells": [
    {
      "cell_type": "markdown",
      "metadata": {
        "id": "view-in-github",
        "colab_type": "text"
      },
      "source": [
        "<a href=\"https://colab.research.google.com/github/jojoagh/python_lab/blob/for_variant/lab2task2.ipynb\" target=\"_parent\"><img src=\"https://colab.research.google.com/assets/colab-badge.svg\" alt=\"Open In Colab\"/></a>"
      ]
    },
    {
      "cell_type": "code",
      "execution_count": 1,
      "metadata": {
        "id": "rk1kzqPmcq9p"
      },
      "outputs": [],
      "source": [
        "crowned = [ \"monday\" , \"Tuesday\" , \"wednesday\" , \"thursday\" , \"friday\" , \"saturday\" , \"sunday\" ]"
      ]
    },
    {
      "cell_type": "code",
      "source": [
        "for i in crowned:\n",
        "  print(i)\n"
      ],
      "metadata": {
        "colab": {
          "base_uri": "https://localhost:8080/"
        },
        "id": "Qhk7kTQ5dwcK",
        "outputId": "144802e7-da3b-4109-cf4c-12e36f9f2b3f"
      },
      "execution_count": 3,
      "outputs": [
        {
          "output_type": "stream",
          "name": "stdout",
          "text": [
            "monday\n",
            "Tuesday\n",
            "wednesday\n",
            "thursday\n",
            "friday\n",
            "saturday\n",
            "sunday\n"
          ]
        }
      ]
    },
    {
      "cell_type": "code",
      "source": [],
      "metadata": {
        "id": "pz6S4lkMgGJ3"
      },
      "execution_count": null,
      "outputs": []
    }
  ]
}